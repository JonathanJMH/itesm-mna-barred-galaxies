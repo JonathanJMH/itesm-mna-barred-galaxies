{
 "cells": [
  {
   "cell_type": "markdown",
   "id": "5b3d72625c858336",
   "metadata": {},
   "source": [
    "# Detección de barras en galaxias - Análisis exploratorio de datos\n",
    "## Proyecto integrador MNA\n",
    "\n",
    "### Integrantes\n",
    "- Jonathan Jesús Marmolejo Hernández - A01795195\n",
    "- Isaid Posadas Oropeza - A01795015\n",
    "- Luis Daniel Ortega Muñoz - A01795197"
   ]
  },
  {
   "cell_type": "markdown",
   "id": "d8f7ac018e4cbad5",
   "metadata": {},
   "source": [
    "### Introducción\n",
    "\n",
    "Este notebook contiene el análisis exploratorio de datos (EDA) del proyecto \"Detección de barras en galaxias\". El objetivo es explorar el conjunto de datos y entender mejor las características de las galaxias, así como la distribución de la variable objetivo."
   ]
  },
  {
   "cell_type": "markdown",
   "id": "e4cdef5072d74cb5",
   "metadata": {},
   "source": [
    "### Importar librerías y cargar datos"
   ]
  },
  {
   "cell_type": "code",
   "execution_count": 26,
   "id": "initial_id",
   "metadata": {
    "ExecuteTime": {
     "end_time": "2025-04-29T17:56:43.959199Z",
     "start_time": "2025-04-29T17:56:43.867146Z"
    },
    "collapsed": true
   },
   "outputs": [],
   "source": [
    "from io import BytesIO\n",
    "\n",
    "import matplotlib.pyplot as plt\n",
    "import pandas as pd\n",
    "import seaborn as sns\n",
    "from PIL import Image\n",
    "\n",
    "#from bargal.images.client import GalaxyImageClient"
   ]
  },
  {
   "cell_type": "code",
   "execution_count": null,
   "id": "74f9b227",
   "metadata": {},
   "outputs": [],
   "source": []
  },
  {
   "cell_type": "code",
   "execution_count": 27,
   "id": "500fd1ee054ea225",
   "metadata": {
    "ExecuteTime": {
     "end_time": "2025-04-29T17:56:44.005703Z",
     "start_time": "2025-04-29T17:56:43.971377Z"
    }
   },
   "outputs": [],
   "source": [
    "df = pd.read_csv(\"../data/dataset.csv\")"
   ]
  },
  {
   "cell_type": "code",
   "execution_count": 28,
   "id": "b810557318e4cb7f",
   "metadata": {
    "ExecuteTime": {
     "end_time": "2025-04-29T17:56:44.532697Z",
     "start_time": "2025-04-29T17:56:44.502774Z"
    }
   },
   "outputs": [
    {
     "data": {
      "text/html": [
       "<div>\n",
       "<style scoped>\n",
       "    .dataframe tbody tr th:only-of-type {\n",
       "        vertical-align: middle;\n",
       "    }\n",
       "\n",
       "    .dataframe tbody tr th {\n",
       "        vertical-align: top;\n",
       "    }\n",
       "\n",
       "    .dataframe thead th {\n",
       "        text-align: right;\n",
       "    }\n",
       "</style>\n",
       "<table border=\"1\" class=\"dataframe\">\n",
       "  <thead>\n",
       "    <tr style=\"text-align: right;\">\n",
       "      <th></th>\n",
       "      <th>name</th>\n",
       "      <th>objra</th>\n",
       "      <th>objdec</th>\n",
       "      <th>Bars</th>\n",
       "    </tr>\n",
       "  </thead>\n",
       "  <tbody>\n",
       "    <tr>\n",
       "      <th>0</th>\n",
       "      <td>manga-10001-12701</td>\n",
       "      <td>133.371091</td>\n",
       "      <td>57.598425</td>\n",
       "      <td>0.0</td>\n",
       "    </tr>\n",
       "    <tr>\n",
       "      <th>1</th>\n",
       "      <td>manga-10001-12702</td>\n",
       "      <td>133.685670</td>\n",
       "      <td>57.480250</td>\n",
       "      <td>0.5</td>\n",
       "    </tr>\n",
       "    <tr>\n",
       "      <th>2</th>\n",
       "      <td>manga-10001-12703</td>\n",
       "      <td>136.017160</td>\n",
       "      <td>57.092329</td>\n",
       "      <td>0.5</td>\n",
       "    </tr>\n",
       "    <tr>\n",
       "      <th>3</th>\n",
       "      <td>manga-10001-12704</td>\n",
       "      <td>133.989967</td>\n",
       "      <td>57.677968</td>\n",
       "      <td>0.0</td>\n",
       "    </tr>\n",
       "    <tr>\n",
       "      <th>4</th>\n",
       "      <td>manga-10001-12705</td>\n",
       "      <td>136.751375</td>\n",
       "      <td>57.451437</td>\n",
       "      <td>0.0</td>\n",
       "    </tr>\n",
       "  </tbody>\n",
       "</table>\n",
       "</div>"
      ],
      "text/plain": [
       "                name       objra     objdec  Bars\n",
       "0  manga-10001-12701  133.371091  57.598425   0.0\n",
       "1  manga-10001-12702  133.685670  57.480250   0.5\n",
       "2  manga-10001-12703  136.017160  57.092329   0.5\n",
       "3  manga-10001-12704  133.989967  57.677968   0.0\n",
       "4  manga-10001-12705  136.751375  57.451437   0.0"
      ]
     },
     "execution_count": 28,
     "metadata": {},
     "output_type": "execute_result"
    }
   ],
   "source": [
    "df.head()"
   ]
  },
  {
   "cell_type": "markdown",
   "id": "98a31eb00bc552f7",
   "metadata": {},
   "source": [
    "Nuestro conjunto de datos se conforma de 4 columnas:\n",
    "- `name`: nombre de la galaxia\n",
    "- `objra`: coordenada RA\n",
    "- `objdec`: coordenada Dec\n",
    "- `Bars`: etiqueta de la galaxia (si tiene barra o no, y de qué tipo)"
   ]
  },
  {
   "cell_type": "markdown",
   "id": "167f771b8b4d95e8",
   "metadata": {},
   "source": [
    "También podemos obtener estadísticas descriptivas. Sin embargo, esto no proporciona valor, puesto que las columnas `objra` y `objdec` son coordenadas y no tienen sentido estadístico; mientras que `Bars` es una variable categórica."
   ]
  },
  {
   "cell_type": "code",
   "execution_count": 29,
   "id": "754e39dde60b6d1f",
   "metadata": {
    "ExecuteTime": {
     "end_time": "2025-04-29T17:56:44.922936Z",
     "start_time": "2025-04-29T17:56:44.892352Z"
    }
   },
   "outputs": [
    {
     "data": {
      "text/html": [
       "<div>\n",
       "<style scoped>\n",
       "    .dataframe tbody tr th:only-of-type {\n",
       "        vertical-align: middle;\n",
       "    }\n",
       "\n",
       "    .dataframe tbody tr th {\n",
       "        vertical-align: top;\n",
       "    }\n",
       "\n",
       "    .dataframe thead th {\n",
       "        text-align: right;\n",
       "    }\n",
       "</style>\n",
       "<table border=\"1\" class=\"dataframe\">\n",
       "  <thead>\n",
       "    <tr style=\"text-align: right;\">\n",
       "      <th></th>\n",
       "      <th>count</th>\n",
       "      <th>mean</th>\n",
       "      <th>std</th>\n",
       "      <th>min</th>\n",
       "      <th>25%</th>\n",
       "      <th>50%</th>\n",
       "      <th>75%</th>\n",
       "      <th>max</th>\n",
       "    </tr>\n",
       "  </thead>\n",
       "  <tbody>\n",
       "    <tr>\n",
       "      <th>objra</th>\n",
       "      <td>10126.0</td>\n",
       "      <td>183.138344</td>\n",
       "      <td>76.301840</td>\n",
       "      <td>0.008808</td>\n",
       "      <td>128.891916</td>\n",
       "      <td>194.107467</td>\n",
       "      <td>239.689169</td>\n",
       "      <td>359.858576</td>\n",
       "    </tr>\n",
       "    <tr>\n",
       "      <th>objdec</th>\n",
       "      <td>10126.0</td>\n",
       "      <td>28.624910</td>\n",
       "      <td>17.968381</td>\n",
       "      <td>-9.302426</td>\n",
       "      <td>14.652696</td>\n",
       "      <td>29.368107</td>\n",
       "      <td>43.866542</td>\n",
       "      <td>65.289735</td>\n",
       "    </tr>\n",
       "    <tr>\n",
       "      <th>Bars</th>\n",
       "      <td>10126.0</td>\n",
       "      <td>0.248914</td>\n",
       "      <td>0.373190</td>\n",
       "      <td>-0.500000</td>\n",
       "      <td>0.000000</td>\n",
       "      <td>0.000000</td>\n",
       "      <td>0.500000</td>\n",
       "      <td>1.000000</td>\n",
       "    </tr>\n",
       "  </tbody>\n",
       "</table>\n",
       "</div>"
      ],
      "text/plain": [
       "          count        mean        std       min         25%         50%  \\\n",
       "objra   10126.0  183.138344  76.301840  0.008808  128.891916  194.107467   \n",
       "objdec  10126.0   28.624910  17.968381 -9.302426   14.652696   29.368107   \n",
       "Bars    10126.0    0.248914   0.373190 -0.500000    0.000000    0.000000   \n",
       "\n",
       "               75%         max  \n",
       "objra   239.689169  359.858576  \n",
       "objdec   43.866542   65.289735  \n",
       "Bars      0.500000    1.000000  "
      ]
     },
     "execution_count": 29,
     "metadata": {},
     "output_type": "execute_result"
    }
   ],
   "source": [
    "df.describe().T"
   ]
  },
  {
   "cell_type": "markdown",
   "id": "568840178e268094",
   "metadata": {},
   "source": [
    "### Distribución de la clase objetivo\n",
    "\n",
    "La variable objetivo es `Bars`, que representa la presencia de barras en las galaxias. Esta variable tiene 6 categorías:\n",
    "- `-0.5`: Indeterminado\n",
    "- `0`: Sin barra\n",
    "- `0.25`: Barra débil\n",
    "- `0.5`: Barra mezclada con los brazos de la galaxia\n",
    "- `0.75`: Barra definida en el centro\n",
    "- `1`: Barra definida y de gran tamaño relativo a la galaxia"
   ]
  },
  {
   "cell_type": "code",
   "execution_count": 30,
   "id": "9ded2de86a7563b6",
   "metadata": {
    "ExecuteTime": {
     "end_time": "2025-04-29T17:56:45.155460Z",
     "start_time": "2025-04-29T17:56:45.129952Z"
    }
   },
   "outputs": [
    {
     "data": {
      "text/plain": [
       "Bars\n",
       " 0.00    6254\n",
       " 0.50    1542\n",
       " 1.00    1345\n",
       " 0.75     456\n",
       " 0.25     436\n",
       "-0.50      93\n",
       "Name: count, dtype: int64"
      ]
     },
     "execution_count": 30,
     "metadata": {},
     "output_type": "execute_result"
    }
   ],
   "source": [
    "df['Bars'].value_counts()"
   ]
  },
  {
   "cell_type": "code",
   "execution_count": 31,
   "id": "5831dd4b98838efd",
   "metadata": {
    "ExecuteTime": {
     "end_time": "2025-04-29T17:56:45.620604Z",
     "start_time": "2025-04-29T17:56:45.396720Z"
    }
   },
   "outputs": [
    {
     "data": {
      "text/plain": [
       "<Axes: xlabel='Bars', ylabel='count'>"
      ]
     },
     "execution_count": 31,
     "metadata": {},
     "output_type": "execute_result"
    },
    {
     "data": {
      "image/png": "[encoded data removed]",
      "text/plain": [
       "<Figure size 640x480 with 1 Axes>"
      ]
     },
     "metadata": {},
     "output_type": "display_data"
    }
   ],
   "source": [
    "sns.countplot(x='Bars', data=df)"
   ]
  },
  {
   "cell_type": "markdown",
   "id": "6fb5080410058f4d",
   "metadata": {},
   "source": [
    "Como podemos observar, nos encontramos ante un problema de clasificación desbalanceado."
   ]
  },
  {
   "cell_type": "markdown",
   "id": "838075edbe28ba47",
   "metadata": {},
   "source": [
    "### Visualización de galaxias\n",
    "\n",
    "La principal aplicación de este proyecto será la detección de barras en galaxias a partir de imágenes. Si bien el conjunto de datos no incluye de forma directa las imágenes, podemos obtenerlas a través de Legacy Survey, utilizando las coordenadas de la galaxia.\n",
    "\n",
    "Como primer paso, obtenemos una muestra aleatoria de una galaxia en cada clase."
   ]
  },
  {
   "cell_type": "code",
   "execution_count": null,
   "id": "e76ccab31ccc813",
   "metadata": {
    "ExecuteTime": {
     "end_time": "2025-04-29T17:56:45.884440Z",
     "start_time": "2025-04-29T17:56:45.858850Z"
    }
   },
   "outputs": [],
   "source": [
    "def get_random_galaxy(label=None):\n",
    "    if label is None:\n",
    "        return df.sample(1).to_dict(orient='records')[0]\n",
    "\n",
    "    return df[df.Bars == label].sample(1).to_dict(orient='records')[0]\n",
    "\n",
    "\n",
    "samples = {}\n",
    "\n",
    "for l in df.Bars.unique():\n",
    "    g = get_random_galaxy(l)\n",
    "    samples[l] = g"
   ]
  },
  {
   "cell_type": "markdown",
   "id": "1bad68a712fe8c9b",
   "metadata": {},
   "source": [
    "Posteriormente, podemos utilizar la clase `GalaxyImageClient` para obtener las imágenes de las galaxias. Esta clase se encarga de descargar las imágenes y almacenarlas en un directorio local. En este caso, las imágenes se almacenarán en el directorio `../data/images`."
   ]
  },
  {
   "cell_type": "code",
   "execution_count": null,
   "id": "307247452a2f2998",
   "metadata": {
    "ExecuteTime": {
     "end_time": "2025-04-29T17:56:46.005923Z",
     "start_time": "2025-04-29T17:56:45.994262Z"
    }
   },
   "outputs": [],
   "source": [
    "img_client = GalaxyImageClient(storage_path=\"../data/images\")"
   ]
  },
  {
   "cell_type": "code",
   "execution_count": null,
   "id": "540356acd5b3243d",
   "metadata": {
    "ExecuteTime": {
     "end_time": "2025-04-29T18:04:03.122508Z",
     "start_time": "2025-04-29T18:04:03.110157Z"
    }
   },
   "outputs": [],
   "source": [
    "imgs = {}\n",
    "\n",
    "for g in samples.values():\n",
    "    img = img_client.get_image(g, save_to_disk=True)\n",
    "    imgs[g['name']] = img"
   ]
  },
  {
   "cell_type": "code",
   "execution_count": null,
   "id": "88092ed493e14e9d",
   "metadata": {
    "ExecuteTime": {
     "end_time": "2025-04-29T17:56:46.634686Z",
     "start_time": "2025-04-29T17:56:46.151904Z"
    }
   },
   "outputs": [],
   "source": [
    "fig, axs = plt.subplots(6, 2, figsize=(10, 25))\n",
    "plt.subplots_adjust(hspace=0.3)\n",
    "\n",
    "for i, label in enumerate(sorted(samples.keys())):\n",
    "    galaxy_data = samples[label]\n",
    "\n",
    "    # Display image\n",
    "    img_bytes = imgs[galaxy_data['name']]\n",
    "    img = Image.open(BytesIO(img_bytes))\n",
    "    axs[i, 0].imshow(img)\n",
    "    axs[i, 0].axis('off')\n",
    "\n",
    "    # Display properties\n",
    "    props = f\"Name: {galaxy_data['name']}\\nRA: {galaxy_data['objra']:.4f}\\nDec: {galaxy_data['objdec']:.4f}\\nBar: {galaxy_data['Bars']}\"\n",
    "    axs[i, 1].text(0, 0.5, props, fontsize=10, va='center')\n",
    "    axs[i, 1].axis('off')\n",
    "\n",
    "plt.show()"
   ]
  },
  {
   "cell_type": "code",
   "execution_count": 32,
   "id": "c9b1080d",
   "metadata": {},
   "outputs": [
    {
     "data": {
      "image/png": "[encoded data removed]",
      "text/plain": [
       "<Figure size 800x400 with 1 Axes>"
      ]
     },
     "metadata": {},
     "output_type": "display_data"
    }
   ],
   "source": [
    "# Distribución de valores \n",
    "\n",
    "import seaborn as sns\n",
    "import matplotlib.pyplot as plt\n",
    "\n",
    "plt.figure(figsize=(8, 4))\n",
    "sns.histplot(df['Bars'], bins=30, kde=True, color='orange')\n",
    "plt.title(\"Distribución de la variable 'Bars'\")\n",
    "plt.xlabel(\"Bars\")\n",
    "plt.ylabel(\"Frecuencia\")\n",
    "plt.show()"
   ]
  },
  {
   "cell_type": "code",
   "execution_count": 33,
   "id": "c6b10b8c",
   "metadata": {},
   "outputs": [
    {
     "data": {
      "image/png": "[encoded data removed]",
      "text/plain": [
       "<Figure size 640x480 with 1 Axes>"
      ]
     },
     "metadata": {},
     "output_type": "display_data"
    }
   ],
   "source": [
    "# Detección de valores atipicos\n",
    "\n",
    "sns.boxplot(x=df['Bars'], color='lightblue')\n",
    "plt.title(\"Boxplot de 'Bars'\")\n",
    "plt.show()"
   ]
  },
  {
   "cell_type": "code",
   "execution_count": 35,
   "id": "8aaf121c",
   "metadata": {},
   "outputs": [
    {
     "name": "stdout",
     "output_type": "stream",
     "text": [
      "Galaxias con valores distintos de 'Bars' para el mismo 'name':\n",
      "Series([], Name: Bars, dtype: int64)\n"
     ]
    }
   ],
   "source": [
    "# Validación de que una misma imagen no tenga diferente clasificación\n",
    "\n",
    "duplicados = df.groupby('name')['Bars'].nunique()\n",
    "inconsistentes = duplicados[duplicados > 1]\n",
    "print(\"Galaxias con valores distintos de 'Bars' para el mismo 'name':\")\n",
    "print(inconsistentes)"
   ]
  }
 ],
 "metadata": {
  "kernelspec": {
   "display_name": ".venv",
   "language": "python",
   "name": "python3"
  },
  "language_info": {
   "codemirror_mode": {
    "name": "ipython",
    "version": 3
   },
   "file_extension": ".py",
   "mimetype": "text/x-python",
   "name": "python",
   "nbconvert_exporter": "python",
   "pygments_lexer": "ipython3",
   "version": "3.11.9"
  }
 },
 "nbformat": 4,
 "nbformat_minor": 5
}
